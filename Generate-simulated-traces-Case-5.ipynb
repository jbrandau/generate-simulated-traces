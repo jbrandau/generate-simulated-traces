{
 "cells": [
  {
   "cell_type": "markdown",
   "metadata": {},
   "source": [
    "# Generate Simulated Data: Case 5\n",
    "\n",
    "- Traces with two masks and noise"
   ]
  },
  {
   "cell_type": "code",
   "execution_count": 1,
   "metadata": {},
   "outputs": [
    {
     "data": {
      "text/html": [
       "<style>.container { width:90% !important; }</style>"
      ],
      "text/plain": [
       "<IPython.core.display.HTML object>"
      ]
     },
     "metadata": {},
     "output_type": "display_data"
    }
   ],
   "source": [
    "#import python libraries\n",
    "import random\n",
    "from random import randint\n",
    "from random import gauss\n",
    "import os.path\n",
    "import numpy as np\n",
    "import matplotlib.pyplot as plt\n",
    "import warnings\n",
    "warnings.filterwarnings('ignore')\n",
    "import pandas as pd\n",
    "\n",
    "# Settings for jupyter notebook disbale in python\n",
    "from IPython.core.display import display, HTML\n",
    "display(HTML(\"<style>.container { width:90% !important; }</style>\"))"
   ]
  },
  {
   "cell_type": "code",
   "execution_count": 2,
   "metadata": {},
   "outputs": [],
   "source": [
    "# Define lengh for the data set\n",
    "data_leng = 100000\n",
    "numberOfSamples = 50\n",
    "\n",
    "# Define key for encryption\n",
    "key = 23\n",
    "\n",
    "# Position of the masked and leakage (index starts with 0)\n",
    "fieldMaskedLekage = 24\n",
    "fieldMasked = 4\n",
    "fieldMasked2 = 44\n",
    "\n",
    "# Define gauss niose\n",
    "noiseStart = 0.0\n",
    "noiseEnd = 0.1\n",
    "\n",
    "# Define jitter shift range\n",
    "activateJitter = False\n",
    "\n",
    "if activateJitter == True:\n",
    "    # Value for jitter \n",
    "    jitterLeft = -4\n",
    "    jitterRight = 4\n",
    "else:\n",
    "    jitterLeft = None\n",
    "    jitterRight = None\n",
    "    \n",
    "# If masked used True \n",
    "maskedValue = True"
   ]
  },
  {
   "cell_type": "code",
   "execution_count": 3,
   "metadata": {},
   "outputs": [],
   "source": [
    "# Define settings table\n",
    "settingsTable = pd.DataFrame([None])\n",
    "settingsTable['data_leng'] = pd.DataFrame([data_leng])\n",
    "settingsTable['numberOfSamples'] = numberOfSamples\n",
    "settingsTable['key'] = key\n",
    "settingsTable['noiseStart'] = noiseStart\n",
    "settingsTable['noiseEnd'] = noiseEnd\n",
    "settingsTable['jitterLeft'] = jitterLeft\n",
    "settingsTable['jitterRight'] = jitterRight\n",
    "settingsTable['masked'] = maskedValue\n",
    "settingsTable = settingsTable.drop(0,axis=True)"
   ]
  },
  {
   "cell_type": "code",
   "execution_count": 4,
   "metadata": {},
   "outputs": [],
   "source": [
    "# AES Sbox\n",
    "AES_Sbox = np.array([\n",
    "            0x63, 0x7C, 0x77, 0x7B, 0xF2, 0x6B, 0x6F, 0xC5, 0x30, 0x01, 0x67, 0x2B, 0xFE, 0xD7, 0xAB, 0x76,\n",
    "            0xCA, 0x82, 0xC9, 0x7D, 0xFA, 0x59, 0x47, 0xF0, 0xAD, 0xD4, 0xA2, 0xAF, 0x9C, 0xA4, 0x72, 0xC0,\n",
    "            0xB7, 0xFD, 0x93, 0x26, 0x36, 0x3F, 0xF7, 0xCC, 0x34, 0xA5, 0xE5, 0xF1, 0x71, 0xD8, 0x31, 0x15,\n",
    "            0x04, 0xC7, 0x23, 0xC3, 0x18, 0x96, 0x05, 0x9A, 0x07, 0x12, 0x80, 0xE2, 0xEB, 0x27, 0xB2, 0x75,\n",
    "            0x09, 0x83, 0x2C, 0x1A, 0x1B, 0x6E, 0x5A, 0xA0, 0x52, 0x3B, 0xD6, 0xB3, 0x29, 0xE3, 0x2F, 0x84,\n",
    "            0x53, 0xD1, 0x00, 0xED, 0x20, 0xFC, 0xB1, 0x5B, 0x6A, 0xCB, 0xBE, 0x39, 0x4A, 0x4C, 0x58, 0xCF,\n",
    "            0xD0, 0xEF, 0xAA, 0xFB, 0x43, 0x4D, 0x33, 0x85, 0x45, 0xF9, 0x02, 0x7F, 0x50, 0x3C, 0x9F, 0xA8,\n",
    "            0x51, 0xA3, 0x40, 0x8F, 0x92, 0x9D, 0x38, 0xF5, 0xBC, 0xB6, 0xDA, 0x21, 0x10, 0xFF, 0xF3, 0xD2,\n",
    "            0xCD, 0x0C, 0x13, 0xEC, 0x5F, 0x97, 0x44, 0x17, 0xC4, 0xA7, 0x7E, 0x3D, 0x64, 0x5D, 0x19, 0x73,\n",
    "            0x60, 0x81, 0x4F, 0xDC, 0x22, 0x2A, 0x90, 0x88, 0x46, 0xEE, 0xB8, 0x14, 0xDE, 0x5E, 0x0B, 0xDB,\n",
    "            0xE0, 0x32, 0x3A, 0x0A, 0x49, 0x06, 0x24, 0x5C, 0xC2, 0xD3, 0xAC, 0x62, 0x91, 0x95, 0xE4, 0x79,\n",
    "            0xE7, 0xC8, 0x37, 0x6D, 0x8D, 0xD5, 0x4E, 0xA9, 0x6C, 0x56, 0xF4, 0xEA, 0x65, 0x7A, 0xAE, 0x08,\n",
    "            0xBA, 0x78, 0x25, 0x2E, 0x1C, 0xA6, 0xB4, 0xC6, 0xE8, 0xDD, 0x74, 0x1F, 0x4B, 0xBD, 0x8B, 0x8A,\n",
    "            0x70, 0x3E, 0xB5, 0x66, 0x48, 0x03, 0xF6, 0x0E, 0x61, 0x35, 0x57, 0xB9, 0x86, 0xC1, 0x1D, 0x9E,\n",
    "            0xE1, 0xF8, 0x98, 0x11, 0x69, 0xD9, 0x8E, 0x94, 0x9B, 0x1E, 0x87, 0xE9, 0xCE, 0x55, 0x28, 0xDF,\n",
    "            0x8C, 0xA1, 0x89, 0x0D, 0xBF, 0xE6, 0x42, 0x68, 0x41, 0x99, 0x2D, 0x0F, 0xB0, 0x54, 0xBB, 0x16\n",
    "            ])"
   ]
  },
  {
   "cell_type": "code",
   "execution_count": 5,
   "metadata": {},
   "outputs": [
    {
     "name": "stdout",
     "output_type": "stream",
     "text": [
      "plaintext: [131, 217, 23, 180, 87] \n",
      "mask [189, 4, 26, 236, 209] \n",
      "mask2 [51, 148, 255, 189, 255]\n"
     ]
    }
   ],
   "source": [
    "# Generate random plaintext\n",
    "plaintext = []\n",
    "mask = []\n",
    "mask2 = []\n",
    "for x in range(data_leng):\n",
    "    plaintext.append(random.randint(0,255))\n",
    "    mask.append(random.randint(0,255))\n",
    "    mask2.append(random.randint(0,255))\n",
    "\n",
    "print(\"plaintext:\",plaintext[0:5],'\\nmask',mask[0:5],'\\nmask2',mask2[0:5])"
   ]
  },
  {
   "cell_type": "code",
   "execution_count": 6,
   "metadata": {},
   "outputs": [
    {
     "data": {
      "text/plain": [
       "100000"
      ]
     },
     "execution_count": 6,
     "metadata": {},
     "output_type": "execute_result"
    }
   ],
   "source": [
    "# Verify size of plaintext\n",
    "len(plaintext)"
   ]
  },
  {
   "cell_type": "code",
   "execution_count": 7,
   "metadata": {},
   "outputs": [
    {
     "data": {
      "text/plain": [
       "100000"
      ]
     },
     "execution_count": 7,
     "metadata": {},
     "output_type": "execute_result"
    }
   ],
   "source": [
    "# Verify size of mask\n",
    "len(mask)"
   ]
  },
  {
   "cell_type": "code",
   "execution_count": 8,
   "metadata": {},
   "outputs": [
    {
     "data": {
      "text/plain": [
       "100000"
      ]
     },
     "execution_count": 8,
     "metadata": {},
     "output_type": "execute_result"
    }
   ],
   "source": [
    "# Verify size of mask2\n",
    "len(mask2)"
   ]
  },
  {
   "cell_type": "code",
   "execution_count": 9,
   "metadata": {},
   "outputs": [
    {
     "name": "stdout",
     "output_type": "stream",
     "text": [
      "\n",
      "labels: [2, 4, 4, 2, 2]\n"
     ]
    }
   ],
   "source": [
    "#Generate the label with HW\n",
    "labels = []\n",
    "for d in plaintext:\n",
    "    labels.append(bin(AES_Sbox[d^key]).count(\"1\"))\n",
    "print(\"\\nlabels:\",labels[0:5])"
   ]
  },
  {
   "cell_type": "code",
   "execution_count": 10,
   "metadata": {},
   "outputs": [
    {
     "name": "stdout",
     "output_type": "stream",
     "text": [
      "maskedData: [3.8736676241220485, 3.9039847092443107, 3.003792855354436, 5.115531378058556, 4.191248468343462] \n",
      "maskedNoise: [6.117958837562143, 0.8506394126995782, 3.0441230812875326, 5.174602526289114, 4.0917296955388665] \n",
      "maskedNoise2: [4.108198578834924, 2.87980672069248, 8.221162007756424, 5.955680062860488, 8.068252415618458]\n"
     ]
    }
   ],
   "source": [
    "maskedData = []\n",
    "maskedNoise = []\n",
    "maskedNoise2 = []\n",
    "maskIndex = 0\n",
    "for d in plaintext:\n",
    "    maskedData.append((bin(((AES_Sbox[d^key])^mask[maskIndex]^mask2[maskIndex])).count(\"1\"))+gauss(noiseStart,noiseEnd))\n",
    "    maskedNoise.append((bin(mask[maskIndex]).count(\"1\"))+gauss(noiseStart,noiseEnd))\n",
    "    maskedNoise2.append((bin(mask2[maskIndex]).count(\"1\"))+gauss(noiseStart,noiseEnd))\n",
    "    maskIndex = maskIndex + 1\n",
    "print(\"maskedData:\",maskedData[0:5],\"\\nmaskedNoise:\",maskedNoise[0:5],\"\\nmaskedNoise2:\",maskedNoise2[0:5])"
   ]
  },
  {
   "cell_type": "code",
   "execution_count": 11,
   "metadata": {},
   "outputs": [
    {
     "data": {
      "text/plain": [
       "100000"
      ]
     },
     "execution_count": 11,
     "metadata": {},
     "output_type": "execute_result"
    }
   ],
   "source": [
    "# Verify size of maskedData \n",
    "len(maskedData)"
   ]
  },
  {
   "cell_type": "code",
   "execution_count": 12,
   "metadata": {
    "scrolled": true
   },
   "outputs": [
    {
     "name": "stdout",
     "output_type": "stream",
     "text": [
      "First generated trace:  [2, 3, 5, 3, 6.117958837562143, 3, 3, 5, 4, 3, 4, 3, 4, 4, 5, 2, 6, 4, 3, 6, 4, 2, 4, 4, 3.8736676241220485, 3, 5, 5, 6, 3, 4, 2, 5, 4, 4, 3, 2, 4, 3, 2, 3, 5, 3, 3, 4.108198578834924, 4, 4, 4, 4, 6]\n",
      "Second generated trace: [6, 3, 4, 5, 0.8506394126995782, 5, 4, 3, 4, 6, 3, 5, 3, 3, 6, 4, 4, 2, 3, 7, 7, 5, 4, 5, 3.9039847092443107, 5, 4, 3, 7, 4, 6, 2, 3, 5, 4, 4, 6, 1, 4, 5, 7, 6, 4, 5, 2.87980672069248, 4, 6, 3, 6, 4]\n",
      "Third generated trace:  [3, 1, 7, 2, 3.0441230812875326, 4, 3, 6, 4, 4, 5, 5, 6, 5, 3, 3, 1, 4, 6, 2, 5, 3, 4, 6, 3.003792855354436, 4, 3, 4, 4, 4, 6, 4, 6, 2, 3, 5, 3, 5, 3, 2, 3, 2, 5, 4, 8.221162007756424, 5, 4, 3, 4, 5]\n"
     ]
    }
   ],
   "source": [
    "# Generate random traces and repalce the t=25 with the leaked data\n",
    "from collections import deque\n",
    "rawTraces = []\n",
    "randomJitter = []\n",
    "# Loop to generate the traces\n",
    "for i in range(data_leng):\n",
    "    rawData=[]\n",
    "    \n",
    "    #loop to repalce the sample\n",
    "    for z in range(numberOfSamples):\n",
    "        \n",
    "        # replace sample at 5th position with the mask and added noise \n",
    "        if z == fieldMasked:\n",
    "            rawData.append(maskedNoise[i])\n",
    "            \n",
    "        elif z == fieldMaskedLekage:\n",
    "            rawData.append(maskedData[i])\n",
    "            \n",
    "        elif z == fieldMasked2:\n",
    "            rawData.append(maskedNoise2[i])     \n",
    "        # Else create random sample\n",
    "        else:   \n",
    "            rawData.append(bin(randint(0,255)).count(\"1\"))\n",
    "    \n",
    "    # Add jitter\n",
    "    if activateJitter == True:\n",
    "        item = deque(rawData)\n",
    "        tmpJitter = random.randint(jitterLeft,jitterRight)\n",
    "        item.rotate(tmpJitter)\n",
    "        randomJitter.append(tmpJitter)\n",
    "        \n",
    "        #Full dataset with all traces \n",
    "        rawTraces.append(item)\n",
    "    else:\n",
    "        rawTraces.append(rawData)\n",
    "\n",
    "print(\"First generated trace: \",rawTraces[0])\n",
    "print(\"Second generated trace:\",rawTraces[1])\n",
    "print(\"Third generated trace: \",rawTraces[2])"
   ]
  },
  {
   "cell_type": "code",
   "execution_count": 13,
   "metadata": {
    "scrolled": true
   },
   "outputs": [
    {
     "data": {
      "text/plain": [
       "100000"
      ]
     },
     "execution_count": 13,
     "metadata": {},
     "output_type": "execute_result"
    }
   ],
   "source": [
    "# Verify size of leakedData \n",
    "len(rawTraces)"
   ]
  },
  {
   "cell_type": "markdown",
   "metadata": {},
   "source": [
    "## Plot Simulated Data"
   ]
  },
  {
   "cell_type": "code",
   "execution_count": 14,
   "metadata": {},
   "outputs": [
    {
     "data": {
      "text/plain": [
       "[<matplotlib.lines.Line2D at 0x119fbd630>]"
      ]
     },
     "execution_count": 14,
     "metadata": {},
     "output_type": "execute_result"
    },
    {
     "data": {
      "image/png": "[encoded data removed]",
      "text/plain": [
       "<Figure size 432x288 with 1 Axes>"
      ]
     },
     "metadata": {
      "needs_background": "light"
     },
     "output_type": "display_data"
    }
   ],
   "source": [
    "plt.plot(rawTraces[0],'-bD',markevery=[fieldMaskedLekage,fieldMasked,fieldMasked2])"
   ]
  },
  {
   "cell_type": "code",
   "execution_count": 15,
   "metadata": {
    "scrolled": true
   },
   "outputs": [
    {
     "data": {
      "text/plain": [
       "[<matplotlib.lines.Line2D at 0x115ffc630>]"
      ]
     },
     "execution_count": 15,
     "metadata": {},
     "output_type": "execute_result"
    },
    {
     "data": {
      "image/png": "[encoded data removed]",
      "text/plain": [
       "<Figure size 432x288 with 1 Axes>"
      ]
     },
     "metadata": {
      "needs_background": "light"
     },
     "output_type": "display_data"
    }
   ],
   "source": [
    "plt.plot(rawTraces[1],'-bD',markevery=[fieldMaskedLekage,fieldMasked,fieldMasked2])"
   ]
  },
  {
   "cell_type": "code",
   "execution_count": 16,
   "metadata": {},
   "outputs": [
    {
     "data": {
      "text/plain": [
       "[<matplotlib.lines.Line2D at 0x116060ef0>]"
      ]
     },
     "execution_count": 16,
     "metadata": {},
     "output_type": "execute_result"
    },
    {
     "data": {
      "image/png": "[encoded data removed]",
      "text/plain": [
       "<Figure size 432x288 with 1 Axes>"
      ]
     },
     "metadata": {
      "needs_background": "light"
     },
     "output_type": "display_data"
    }
   ],
   "source": [
    "plt.plot(rawTraces[2],'-bD',markevery=[fieldMaskedLekage,fieldMasked,fieldMasked2])"
   ]
  },
  {
   "cell_type": "markdown",
   "metadata": {},
   "source": [
    "### Create Dataset"
   ]
  },
  {
   "cell_type": "code",
   "execution_count": 17,
   "metadata": {},
   "outputs": [],
   "source": [
    "# Generate file id \n",
    "if activateJitter == False:\n",
    "    fileID = 'E2M' + str(int((noiseEnd * 100))) + '_0'\n",
    "else:  \n",
    "    fileID = 'E' + str(int((noiseEnd * 100))) + '_' + str(int(jitterRight))"
   ]
  },
  {
   "cell_type": "code",
   "execution_count": 18,
   "metadata": {},
   "outputs": [],
   "source": [
    "# Traces to csv \n",
    "simulated_traces = pd.DataFrame(rawTraces)\n",
    "simulated_traces.to_csv('./Data/simulated_traces_'+ fileID +'.csv',index=False)"
   ]
  },
  {
   "cell_type": "code",
   "execution_count": 19,
   "metadata": {},
   "outputs": [],
   "source": [
    "# Metadata to csv \n",
    "simulated_matadata = pd.DataFrame(plaintext)\n",
    "simulated_matadata['labels'] = labels\n",
    "simulated_matadata['mask'] = mask\n",
    "simulated_matadata.rename(index=str, columns={0: \"plaintext\"})\n",
    "simulated_matadata.to_csv('./Data/simulated_metadata_'+ fileID +'.csv',index=False)"
   ]
  },
  {
   "cell_type": "code",
   "execution_count": 20,
   "metadata": {},
   "outputs": [],
   "source": [
    "# Settings to csv\n",
    "settingsTable.to_csv('./Data/simulated_settingsTable_'+ fileID +'.csv',index=False)"
   ]
  },
  {
   "cell_type": "code",
   "execution_count": 21,
   "metadata": {},
   "outputs": [
    {
     "data": {
      "text/html": [
       "<div>\n",
       "<style scoped>\n",
       "    .dataframe tbody tr th:only-of-type {\n",
       "        vertical-align: middle;\n",
       "    }\n",
       "\n",
       "    .dataframe tbody tr th {\n",
       "        vertical-align: top;\n",
       "    }\n",
       "\n",
       "    .dataframe thead th {\n",
       "        text-align: right;\n",
       "    }\n",
       "</style>\n",
       "<table border=\"1\" class=\"dataframe\">\n",
       "  <thead>\n",
       "    <tr style=\"text-align: right;\">\n",
       "      <th></th>\n",
       "      <th>data_leng</th>\n",
       "      <th>numberOfSamples</th>\n",
       "      <th>key</th>\n",
       "      <th>noiseStart</th>\n",
       "      <th>noiseEnd</th>\n",
       "      <th>jitterLeft</th>\n",
       "      <th>jitterRight</th>\n",
       "      <th>masked</th>\n",
       "    </tr>\n",
       "  </thead>\n",
       "  <tbody>\n",
       "    <tr>\n",
       "      <th>0</th>\n",
       "      <td>100000</td>\n",
       "      <td>50</td>\n",
       "      <td>23</td>\n",
       "      <td>0.0</td>\n",
       "      <td>0.1</td>\n",
       "      <td>None</td>\n",
       "      <td>None</td>\n",
       "      <td>True</td>\n",
       "    </tr>\n",
       "  </tbody>\n",
       "</table>\n",
       "</div>"
      ],
      "text/plain": [
       "   data_leng  numberOfSamples  key  noiseStart  noiseEnd jitterLeft  \\\n",
       "0     100000               50   23         0.0       0.1       None   \n",
       "\n",
       "  jitterRight  masked  \n",
       "0        None    True  "
      ]
     },
     "execution_count": 21,
     "metadata": {},
     "output_type": "execute_result"
    }
   ],
   "source": [
    "settingsTable"
   ]
  }
 ],
 "metadata": {
  "kernelspec": {
   "display_name": "Python 3",
   "language": "python",
   "name": "python3"
  },
  "language_info": {
   "codemirror_mode": {
    "name": "ipython",
    "version": 3
   },
   "file_extension": ".py",
   "mimetype": "text/x-python",
   "name": "python",
   "nbconvert_exporter": "python",
   "pygments_lexer": "ipython3",
   "version": "3.7.0"
  }
 },
 "nbformat": 4,
 "nbformat_minor": 2
}
